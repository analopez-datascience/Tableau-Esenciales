{
 "cells": [
  {
   "cell_type": "code",
   "execution_count": null,
   "id": "c7f3562a",
   "metadata": {},
   "outputs": [],
   "source": [
    "# calculo de porcentaje\n",
    "\n",
    "[Ventas] / SUM([Ventas]) OVER() * 100\n",
    "\n",
    "\n",
    "# diferencia entre fechas\n",
    "\n",
    "DATEDIFF('day', [Fecha Pedido], [Fecha Entrega])\n",
    "\n",
    "\n",
    "# condiciones lógicas\n",
    "\n",
    "IF [Ingresos] > 100000 THEN \"Alto\"\n",
    "ELSEIF [Ingresos] > 50000 THEN \"Medio\"\n",
    "ELSE \"Bajo\"\n",
    "END\n",
    "\n",
    "\n",
    "# concatenar campos\n",
    "\n",
    "[Nombre] + \" \" + [Apellido]\n",
    "\n",
    "\n"
   ]
  }
 ],
 "metadata": {
  "kernelspec": {
   "display_name": "Python 3 (ipykernel)",
   "language": "python",
   "name": "python3"
  },
  "language_info": {
   "codemirror_mode": {
    "name": "ipython",
    "version": 3
   },
   "file_extension": ".py",
   "mimetype": "text/x-python",
   "name": "python",
   "nbconvert_exporter": "python",
   "pygments_lexer": "ipython3",
   "version": "3.10.9"
  }
 },
 "nbformat": 4,
 "nbformat_minor": 5
}
