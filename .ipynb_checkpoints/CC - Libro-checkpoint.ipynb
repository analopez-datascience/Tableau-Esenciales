{
 "cells": [
  {
   "cell_type": "markdown",
   "id": "bd0043dd",
   "metadata": {},
   "source": [
    "# CC generales de contabilidad"
   ]
  },
  {
   "cell_type": "markdown",
   "id": "cefeb5bd",
   "metadata": {},
   "source": [
    "## Relativo a aerolíneas"
   ]
  },
  {
   "cell_type": "code",
   "execution_count": null,
   "id": "8c9789a7",
   "metadata": {},
   "outputs": [],
   "source": [
    "# tiempo total del vuelo\n",
    "\n",
    "DATEDIFF('minute', [Hora Despegue], [Hora Aterrizaje])\n",
    "\n",
    "\n",
    "# retraso del vuelo\n",
    "\n",
    "DATEDIFF('minute', [Hora Salida Programada], [Hora Salida Real])\n",
    "\n",
    "# tiempo en tierra (taxi)\n",
    "\n",
    "DATEDIFF('minute', [Hora Aterrizaje], [Hora Despegue Siguiente])\n",
    "\n",
    "\n",
    "# cumplimiento del horario\n",
    "\n",
    "IF DATEDIFF('minute', [Hora Salida Programada], [Hora Salida Real]) <= 15 AND \n",
    "   DATEDIFF('minute', [Hora Llegada Programada], [Hora Llegada Real]) <= 15 THEN \"A Tiempo\"\n",
    "ELSE \"Retrasado\"\n",
    "END\n",
    "\n",
    "\n",
    "# utilización de la aeronave (optimización alquiler)\n",
    "\n",
    "([Tiempo Total de Vuelo] / [Tiempo Disponible]) * 100\n",
    "\n",
    "\n",
    "# retraso acumulado\n",
    "\n",
    "SUM([Retraso del Vuelo]) OVER (PARTITION BY [ID Aeronave] ORDER BY [Hora Salida Programada])\n"
   ]
  }
 ],
 "metadata": {
  "kernelspec": {
   "display_name": "Python 3 (ipykernel)",
   "language": "python",
   "name": "python3"
  },
  "language_info": {
   "codemirror_mode": {
    "name": "ipython",
    "version": 3
   },
   "file_extension": ".py",
   "mimetype": "text/x-python",
   "name": "python",
   "nbconvert_exporter": "python",
   "pygments_lexer": "ipython3",
   "version": "3.10.9"
  }
 },
 "nbformat": 4,
 "nbformat_minor": 5
}
