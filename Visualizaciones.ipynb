{
 "cells": [
  {
   "cell_type": "markdown",
   "id": "493f5491",
   "metadata": {},
   "source": [
    "# Visualizaciones \n",
    "\n",
    "https://datavizcatalogue.com/ES/ver_por_lista.html\n",
    "https://github.com/Financial-Times/chart-doctor/blob/main/visual-vocabulary/Visual-vocabulary-es.pdf\n"
   ]
  }
 ],
 "metadata": {
  "kernelspec": {
   "display_name": "Python 3 (ipykernel)",
   "language": "python",
   "name": "python3"
  },
  "language_info": {
   "codemirror_mode": {
    "name": "ipython",
    "version": 3
   },
   "file_extension": ".py",
   "mimetype": "text/x-python",
   "name": "python",
   "nbconvert_exporter": "python",
   "pygments_lexer": "ipython3",
   "version": "3.10.9"
  }
 },
 "nbformat": 4,
 "nbformat_minor": 5
}
