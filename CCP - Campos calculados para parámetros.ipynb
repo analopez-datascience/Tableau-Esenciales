{
 "cells": [
  {
   "cell_type": "code",
   "execution_count": null,
   "id": "c2c3eaa2",
   "metadata": {},
   "outputs": [],
   "source": [
    "# selección dinámica de medidas\n",
    "\n",
    "CASE [Seleccionar Medida]\n",
    "  WHEN \"Ventas\" THEN [Sales]\n",
    "  WHEN \"Beneficio\" THEN [Profit]\n",
    "  WHEN \"Cantidad\" THEN [Quantity]\n",
    "END\n",
    "\n",
    "\n",
    "# filtro dinámico de fecha; definiremos en le parámetro start date y end date\n",
    "\n",
    "IF [Fecha] >= [Start Date] AND [Fecha] <= [End Date] THEN [Valor] ELSE NULL END\n",
    "\n",
    "\n",
    "# cálculo dinámico de objetivos\n",
    "\n",
    "IF [Sales] >= [Objetivo de Ventas] THEN \"Cumplido\" ELSE \"No Cumplido\" END\n",
    "\n",
    "\n",
    "# cambio de dimensión\n",
    "\n",
    "CASE [Seleccionar Dimensión]\n",
    "    WHEN \"Categoría\" THEN [Category]\n",
    "    WHEN \"Región\" THEN [Region]\n",
    "    WHEN \"Segmento\" THEN [Segment]\n",
    "END\n",
    "\n",
    "\n",
    "# comparación de años dinámica\n",
    "\n",
    "IF YEAR([Fecha]) = [Año 1] THEN [Sales]\n",
    "ELSEIF YEAR([Fecha]) = [Año 2] THEN [Sales]\n",
    "END\n"
   ]
  }
 ],
 "metadata": {
  "kernelspec": {
   "display_name": "Python 3 (ipykernel)",
   "language": "python",
   "name": "python3"
  },
  "language_info": {
   "codemirror_mode": {
    "name": "ipython",
    "version": 3
   },
   "file_extension": ".py",
   "mimetype": "text/x-python",
   "name": "python",
   "nbconvert_exporter": "python",
   "pygments_lexer": "ipython3",
   "version": "3.10.9"
  }
 },
 "nbformat": 4,
 "nbformat_minor": 5
}
